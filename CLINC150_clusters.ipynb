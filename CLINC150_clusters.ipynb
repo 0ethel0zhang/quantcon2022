{
  "nbformat": 4,
  "nbformat_minor": 0,
  "metadata": {
    "colab": {
      "name": "IMDB Movie review.ipynb",
      "provenance": [],
      "collapsed_sections": [],
      "toc_visible": true,
      "include_colab_link": true
    },
    "kernelspec": {
      "name": "python3",
      "display_name": "Python 3"
    }
  },
  "cells": [
    {
      "cell_type": "markdown",
      "metadata": {
        "id": "view-in-github",
        "colab_type": "text"
      },
      "source": [
        "<a href=\"https://colab.research.google.com/github/0ethel0zhang/quantcon2022/blob/main/CLINC150_clusters.ipynb\" target=\"_parent\"><img src=\"https://colab.research.google.com/assets/colab-badge.svg\" alt=\"Open In Colab\"/></a>"
      ]
    },
    {
      "cell_type": "markdown",
      "metadata": {
        "id": "Q4DN769E2O_R"
      },
      "source": [
        "# Credits\n",
        "\n",
        "You can refer to [this TensorFlow tutorial](https://www.tensorflow.org/hub/tutorials/tf2_text_classification) for how to import the data.\n",
        "\n",
        "# 0. Setup\n",
        "\n",
        "## 0.1 Import Libraries"
      ]
    },
    {
      "cell_type": "code",
      "execution_count": null,
      "metadata": {
        "id": "2ew7HTbPpCJH",
        "colab": {
          "base_uri": "https://localhost:8080/"
        },
        "outputId": "bb86ac9d-f438-47e8-ec34-9df35396faac"
      },
      "outputs": [
        {
          "output_type": "stream",
          "name": "stdout",
          "text": [
            "Version:  2.8.0\n",
            "Eager mode:  True\n",
            "Hub version:  0.12.0\n",
            "GPU is NOT AVAILABLE\n"
          ]
        }
      ],
      "source": [
        "import numpy as np\n",
        "import pandas as pd\n",
        "from google.colab import data_table\n",
        "data_table.enable_dataframe_formatter()\n",
        "\n",
        "import tensorflow as tf\n",
        "import tensorflow_hub as hub\n",
        "import tensorflow_datasets as tfds\n",
        "\n",
        "import matplotlib.pyplot as plt\n",
        "import seaborn as sns\n",
        "\n",
        "import scipy.cluster.hierarchy as sch\n",
        "from sklearn.cluster import AgglomerativeClustering\n",
        "\n",
        "print(\"Version: \", tf.__version__)\n",
        "print(\"Eager mode: \", tf.executing_eagerly())\n",
        "print(\"Hub version: \", hub.__version__)\n",
        "print(\"GPU is\", \"available\" if tf.config.list_physical_devices('GPU') else \"NOT AVAILABLE\")"
      ]
    },
    {
      "cell_type": "markdown",
      "metadata": {
        "id": "iAsKG535pHep"
      },
      "source": [
        "## 0.2 Download CLINC150\n",
        "\n",
        "CLINC150 is a new dataset that includes queries with intents and queries that are out-of-scope (OOS), i.e., queries that do not fall into any of the system's supported intents.\n",
        "\n",
        "The CLINC150 dataset is available on [TensorFlow datasets](https://github.com/tensorflow/datasets). The following code downloads the CLINC150 dataset to your machine (or the colab runtime):"
      ]
    },
    {
      "cell_type": "code",
      "source": [
        "data = tfds.load(name = \"clinc_oos\", split = \"test\")"
      ],
      "metadata": {
        "id": "SH0BUMEdoT5h"
      },
      "execution_count": null,
      "outputs": []
    },
    {
      "cell_type": "code",
      "source": [
        "sample_n = 100 #@param sample_n\n",
        "text = [tfds.as_numpy(x[\"text\"]) for x in data.take(sample_n)]\n",
        "intent = [tfds.as_numpy(x[\"intent_name\"]) for x in data.take(sample_n)]"
      ],
      "metadata": {
        "id": "4EGMTUr6odLk"
      },
      "execution_count": null,
      "outputs": []
    },
    {
      "cell_type": "markdown",
      "metadata": {
        "id": "l50X3GfjpU4r"
      },
      "source": [
        "## 0.3 Explore the data "
      ]
    },
    {
      "cell_type": "code",
      "execution_count": null,
      "metadata": {
        "id": "y8qCnve_-lkO",
        "colab": {
          "base_uri": "https://localhost:8080/"
        },
        "outputId": "250c9262-d1ad-41af-b59f-980755e58786"
      },
      "outputs": [
        {
          "output_type": "stream",
          "name": "stdout",
          "text": [
            "Training entries: 25000, test entries: 25000\n"
          ]
        }
      ],
      "source": [
        "print(\"Text entries: {}, intent entries: {}\".format(len(text), len(intent)))"
      ]
    },
    {
      "cell_type": "markdown",
      "metadata": {
        "id": "RnKvHWW4-lkW"
      },
      "source": [
        "Let's look at some of the text."
      ]
    },
    {
      "cell_type": "code",
      "execution_count": null,
      "metadata": {
        "id": "QtTS4kpEpjbi",
        "colab": {
          "base_uri": "https://localhost:8080/"
        },
        "outputId": "808c5701-b5c9-4a8b-b2aa-d4547e45df1d"
      },
      "outputs": [
        {
          "output_type": "execute_result",
          "data": {
            "text/plain": [
              "[b'do you know how i can change my insurance policy',\n",
              " b'would you provide me with what the point of life is',\n",
              " b'my tires are filled enough or no']"
            ]
          },
          "metadata": {},
          "execution_count": 96
        }
      ],
      "source": [
        "text[:3]"
      ]
    },
    {
      "cell_type": "markdown",
      "metadata": {
        "id": "LLC02j2g-llC"
      },
      "source": [
        "# 1. Build the model\n",
        "\n",
        "Building a clustering model requires three main architectural decisions:\n",
        "\n",
        "* How to represent the text?\n",
        "* Which clustering model to use?"
      ]
    },
    {
      "cell_type": "markdown",
      "source": [
        "## 1.1 Transform input\n",
        "\n",
        "In this example, the input data consists of sentences. As suggested by TensorFlow, \"One way to represent the text is to convert sentences into embeddings vectors. We can use a pre-trained text embedding as the first layer, which will have two advantages:\n",
        "*   we don't have to worry about text preprocessing,\n",
        "*   we can benefit from transfer learning.\n",
        "\"\n",
        "\n",
        "\n",
        "Here are many [embeddings models](https://www.tensorflow.org/text/guide/word_embeddings) from [TensorFlow Hub](https://www.tensorflow.org/hub) that you can try. This turorial will use the Universal Language Encoder i.e. **Option 1** in the following list of light-weight embeddings:\n",
        "\n",
        "* [universal-sentence-encoder](https://tfhub.dev/google/universal-sentence-encoder/4) \"*The Universal Sentence Encoder encodes text into high-dimensional vectors that can be used for text classification, semantic similarity, clustering and other natural language tasks.*\"\n",
        "* [google/nnlm-en-dim50/2](https://tfhub.dev/google/nnlm-en-dim50/2) - 50-dimension embedding trained on English Google News 7B corpus\n",
        "* [google/nnlm-en-dim50-with-normalization/2](https://tfhub.dev/google/nnlm-en-dim50-with-normalization/2) - same as [google/nnlm-en-dim50/2](https://tfhub.dev/google/nnlm-en-dim50/2), but with additional text normalization to remove punctuation. This can help to get better coverage of in-vocabulary embeddings for tokens on your input text.\n",
        "* [google/nnlm-en-dim128-with-normalization/2](https://tfhub.dev/google/nnlm-en-dim128-with-normalization/2) - A larger model with an embedding dimension of 128 instead of  50."
      ],
      "metadata": {
        "id": "OTVTYuzuQQ9M"
      }
    },
    {
      "cell_type": "code",
      "metadata": {
        "id": "7kLIgt0Z0RBU",
        "colab": {
          "base_uri": "https://localhost:8080/"
        },
        "outputId": "fcfe61a9-f538-4db0-c258-62033e5b6e6f"
      },
      "source": [
        "module_url = \"https://tfhub.dev/google/universal-sentence-encoder/4\" #@param [\"https://tfhub.dev/google/universal-sentence-encoder/4\", \"https://tfhub.dev/google/universal-sentence-encoder-large/5\"]\n",
        "model = hub.load(module_url)\n",
        "print (\"module %s loaded\" % module_url)\n",
        "def embed(input):\n",
        "  return model(input)"
      ],
      "execution_count": null,
      "outputs": [
        {
          "output_type": "stream",
          "name": "stdout",
          "text": [
            "module https://tfhub.dev/google/universal-sentence-encoder/4 loaded\n"
          ]
        }
      ]
    },
    {
      "cell_type": "code",
      "source": [
        "def plot_similarity(labels, features, rotation1, rotation2):\n",
        "  corr = np.inner(features, features)\n",
        "  sns.set(font_scale=1.2)\n",
        "  g = sns.heatmap(\n",
        "      corr,\n",
        "      xticklabels=labels,\n",
        "      yticklabels=labels,\n",
        "      vmin=0,\n",
        "      vmax=1,\n",
        "      cmap=\"YlOrRd\")\n",
        "  g.set_xticklabels(labels, rotation=rotation1)\n",
        "  g.set_yticklabels(labels, rotation=rotation2)\n",
        "  g.set_title(\"Semantic Textual Similarity\")\n",
        "\n",
        "def run_and_plot(messages_):\n",
        "  message_embeddings_ = embed(messages_)\n",
        "  plot_similarity(messages_, message_embeddings_, 0, 90)"
      ],
      "metadata": {
        "id": "m9eVYTebRdgD"
      },
      "execution_count": null,
      "outputs": []
    },
    {
      "cell_type": "code",
      "source": [
        "plot_similarity(range(3), embed(sample[:3]), 0, 0)"
      ],
      "metadata": {
        "colab": {
          "base_uri": "https://localhost:8080/",
          "height": 288
        },
        "id": "eVynPk3hRp-R",
        "outputId": "d6858b3f-98b1-4497-8972-a54456abd3d9"
      },
      "execution_count": null,
      "outputs": [
        {
          "output_type": "display_data",
          "data": {
            "text/plain": [
              "<Figure size 432x288 with 2 Axes>"
            ],
            "image/png": "[encoded data removed]"
          },
          "metadata": {}
        }
      ]
    },
    {
      "cell_type": "code",
      "source": [
        "#@title transform to embeddings\n",
        "embeddings = embed(text)"
      ],
      "metadata": {
        "id": "LljLuj2ubbLD"
      },
      "execution_count": null,
      "outputs": []
    },
    {
      "cell_type": "markdown",
      "source": [
        "## 1.2 Build clustering model\n",
        "\n",
        "Since text clusters are rarely of similar sizes and most of the time, we don't know the exact number of clusters there are, this tutorial focuses on clustering methodologies that deals with non-spherical data and do not require pre-determined number of clusters. Usually hierarchical clustering models are more suitable for these needs. One such model that we will cover in this tutorial is the AgglomerativeClustering model in sklearn."
      ],
      "metadata": {
        "id": "jV6EqTNZQArL"
      }
    },
    {
      "cell_type": "code",
      "source": [
        "def cluster_with_cosine_way(embeddings, way = 'complete'):\n",
        "  linkage_df = sch.linkage(embeddings, method = way, metric = \"cosine\")\n",
        "  threshold = 0.7*max(linkage_df[:,2])\n",
        "  ncluster = sum([x[2] > threshold for x in linkage_df]) + 1\n",
        "  # create clusters\n",
        "  hc = AgglomerativeClustering(\n",
        "      n_clusters = ncluster, affinity = 'cosine', linkage = way)\n",
        "  # save clusters for chart\n",
        "  y_hc = hc.fit_predict(embeddings)\n",
        "  return y_hc"
      ],
      "metadata": {
        "id": "SGp-aFdxbY0Q"
      },
      "execution_count": null,
      "outputs": []
    },
    {
      "cell_type": "code",
      "source": [
        "#@title Create dendrogram graph\n",
        "plt.figure(figsize = (18, 5))\n",
        "dendrogram = sch.dendrogram(\n",
        "    sch.linkage(embeddings, method='complete', metric = \"cosine\"), \n",
        "    leaf_rotation=0, above_threshold_color='magenta')\n",
        "plt.hlines(1.25, 0, 1000, color = \"magenta\")"
      ],
      "metadata": {
        "colab": {
          "base_uri": "https://localhost:8080/",
          "height": 325
        },
        "id": "2PSqRvGlbXEm",
        "outputId": "dcaae421-b69e-40d1-a268-015b7a994a09"
      },
      "execution_count": null,
      "outputs": [
        {
          "output_type": "execute_result",
          "data": {
            "text/plain": [
              "<matplotlib.collections.LineCollection at 0x7fc979ce7550>"
            ]
          },
          "metadata": {},
          "execution_count": 85
        },
        {
          "output_type": "display_data",
          "data": {
            "text/plain": [
              "<Figure size 1296x360 with 1 Axes>"
            ],
            "image/png": "[encoded data removed]"
          },
          "metadata": {}
        }
      ]
    },
    {
      "cell_type": "code",
      "source": [
        "y_hc = cluster_with_cosine_way(embeddings, \"complete\")"
      ],
      "metadata": {
        "id": "dvI0NcsJdxX5"
      },
      "execution_count": null,
      "outputs": []
    },
    {
      "cell_type": "code",
      "source": [
        "output_df = pd.DataFrame([y_hc, text, intent]).T.rename(\n",
        "    columns = dict(zip(range(3), [\"cluster\", \"text\", \"intent\"])))"
      ],
      "metadata": {
        "id": "DZeSq1dReVxc"
      },
      "execution_count": null,
      "outputs": []
    },
    {
      "cell_type": "markdown",
      "source": [
        "## 1.3 Explore output"
      ],
      "metadata": {
        "id": "QmUXB1cZe8FA"
      }
    },
    {
      "cell_type": "code",
      "source": [
        "def upper_tri_indexing(A):\n",
        "    m = A.shape[0]\n",
        "    r,c = np.triu_indices(m,1)\n",
        "    return A[r,c]"
      ],
      "metadata": {
        "id": "x_cBFg4MnWZl"
      },
      "execution_count": null,
      "outputs": []
    },
    {
      "cell_type": "code",
      "source": [
        "# distribution of cluster size\n",
        "plt.hist(output_df.cluster.value_counts());"
      ],
      "metadata": {
        "colab": {
          "base_uri": "https://localhost:8080/",
          "height": 271
        },
        "id": "DDdL62EGez-h",
        "outputId": "ff2123bf-2cd6-4323-9003-87ed2d9d12f1"
      },
      "execution_count": null,
      "outputs": [
        {
          "output_type": "display_data",
          "data": {
            "text/plain": [
              "<Figure size 432x288 with 1 Axes>"
            ],
            "image/png": "[encoded data removed]"
          },
          "metadata": {}
        }
      ]
    },
    {
      "cell_type": "code",
      "source": [
        "data_table.DataTable(\n",
        "  output_df.sort_values(\"cluster\")[[\"cluster\", \"text\"]], \n",
        "  num_rows_per_page=10)"
      ],
      "metadata": {
        "colab": {
          "base_uri": "https://localhost:8080/",
          "height": 315
        },
        "id": "rfCfbY2Heq4t",
        "outputId": "b40f7e60-7c96-4f6d-ad97-cb20dac9bf0b"
      },
      "execution_count": null,
      "outputs": [
        {
          "output_type": "execute_result",
          "data": {
            "text/plain": [
              "   cluster                                               text\n",
              "99       0  b'give me a list of ingredients for making pasta'\n",
              "64       0               b'will peas work instead of carrots'\n",
              "5        1                             b'whisper mode , stop'\n",
              "38       1                        b'talk to you soon , bye !'\n",
              "16       1                       b'please start whisper mode'\n",
              "..     ...                                                ...\n",
              "23      30                           b'yes , that is factual'\n",
              "51      31                  b'set an alarm for 6 am tomorrow'\n",
              "26      32          b'go back to the default settings please'\n",
              "25      33                    b'can i start calling you fred'\n",
              "36      33       b'can you call me a different name , please'\n",
              "\n",
              "[100 rows x 2 columns]"
            ],
            "text/html": [
              "\n",
              "  <div id=\"df-162e97d0-ccf2-4b3c-b153-4dde9aaed2b0\">\n",
              "    <div class=\"colab-df-container\">\n",
              "      <div>\n",
              "<style scoped>\n",
              "    .dataframe tbody tr th:only-of-type {\n",
              "        vertical-align: middle;\n",
              "    }\n",
              "\n",
              "    .dataframe tbody tr th {\n",
              "        vertical-align: top;\n",
              "    }\n",
              "\n",
              "    .dataframe thead th {\n",
              "        text-align: right;\n",
              "    }\n",
              "</style>\n",
              "<table border=\"1\" class=\"dataframe\">\n",
              "  <thead>\n",
              "    <tr style=\"text-align: right;\">\n",
              "      <th></th>\n",
              "      <th>cluster</th>\n",
              "      <th>text</th>\n",
              "    </tr>\n",
              "  </thead>\n",
              "  <tbody>\n",
              "    <tr>\n",
              "      <th>99</th>\n",
              "      <td>0</td>\n",
              "      <td>b'give me a list of ingredients for making pasta'</td>\n",
              "    </tr>\n",
              "    <tr>\n",
              "      <th>64</th>\n",
              "      <td>0</td>\n",
              "      <td>b'will peas work instead of carrots'</td>\n",
              "    </tr>\n",
              "    <tr>\n",
              "      <th>5</th>\n",
              "      <td>1</td>\n",
              "      <td>b'whisper mode , stop'</td>\n",
              "    </tr>\n",
              "    <tr>\n",
              "      <th>38</th>\n",
              "      <td>1</td>\n",
              "      <td>b'talk to you soon , bye !'</td>\n",
              "    </tr>\n",
              "    <tr>\n",
              "      <th>16</th>\n",
              "      <td>1</td>\n",
              "      <td>b'please start whisper mode'</td>\n",
              "    </tr>\n",
              "    <tr>\n",
              "      <th>...</th>\n",
              "      <td>...</td>\n",
              "      <td>...</td>\n",
              "    </tr>\n",
              "    <tr>\n",
              "      <th>23</th>\n",
              "      <td>30</td>\n",
              "      <td>b'yes , that is factual'</td>\n",
              "    </tr>\n",
              "    <tr>\n",
              "      <th>51</th>\n",
              "      <td>31</td>\n",
              "      <td>b'set an alarm for 6 am tomorrow'</td>\n",
              "    </tr>\n",
              "    <tr>\n",
              "      <th>26</th>\n",
              "      <td>32</td>\n",
              "      <td>b'go back to the default settings please'</td>\n",
              "    </tr>\n",
              "    <tr>\n",
              "      <th>25</th>\n",
              "      <td>33</td>\n",
              "      <td>b'can i start calling you fred'</td>\n",
              "    </tr>\n",
              "    <tr>\n",
              "      <th>36</th>\n",
              "      <td>33</td>\n",
              "      <td>b'can you call me a different name , please'</td>\n",
              "    </tr>\n",
              "  </tbody>\n",
              "</table>\n",
              "<p>100 rows × 2 columns</p>\n",
              "</div>\n",
              "      <button class=\"colab-df-convert\" onclick=\"convertToInteractive('df-162e97d0-ccf2-4b3c-b153-4dde9aaed2b0')\"\n",
              "              title=\"Convert this dataframe to an interactive table.\"\n",
              "              style=\"display:none;\">\n",
              "        \n",
              "  <svg xmlns=\"http://www.w3.org/2000/svg\" height=\"24px\"viewBox=\"0 0 24 24\"\n",
              "       width=\"24px\">\n",
              "    <path d=\"M0 0h24v24H0V0z\" fill=\"none\"/>\n",
              "    <path d=\"M18.56 5.44l.94 2.06.94-2.06 2.06-.94-2.06-.94-.94-2.06-.94 2.06-2.06.94zm-11 1L8.5 8.5l.94-2.06 2.06-.94-2.06-.94L8.5 2.5l-.94 2.06-2.06.94zm10 10l.94 2.06.94-2.06 2.06-.94-2.06-.94-.94-2.06-.94 2.06-2.06.94z\"/><path d=\"M17.41 7.96l-1.37-1.37c-.4-.4-.92-.59-1.43-.59-.52 0-1.04.2-1.43.59L10.3 9.45l-7.72 7.72c-.78.78-.78 2.05 0 2.83L4 21.41c.39.39.9.59 1.41.59.51 0 1.02-.2 1.41-.59l7.78-7.78 2.81-2.81c.8-.78.8-2.07 0-2.86zM5.41 20L4 18.59l7.72-7.72 1.47 1.35L5.41 20z\"/>\n",
              "  </svg>\n",
              "      </button>\n",
              "      \n",
              "  <style>\n",
              "    .colab-df-container {\n",
              "      display:flex;\n",
              "      flex-wrap:wrap;\n",
              "      gap: 12px;\n",
              "    }\n",
              "\n",
              "    .colab-df-convert {\n",
              "      background-color: #E8F0FE;\n",
              "      border: none;\n",
              "      border-radius: 50%;\n",
              "      cursor: pointer;\n",
              "      display: none;\n",
              "      fill: #1967D2;\n",
              "      height: 32px;\n",
              "      padding: 0 0 0 0;\n",
              "      width: 32px;\n",
              "    }\n",
              "\n",
              "    .colab-df-convert:hover {\n",
              "      background-color: #E2EBFA;\n",
              "      box-shadow: 0px 1px 2px rgba(60, 64, 67, 0.3), 0px 1px 3px 1px rgba(60, 64, 67, 0.15);\n",
              "      fill: #174EA6;\n",
              "    }\n",
              "\n",
              "    [theme=dark] .colab-df-convert {\n",
              "      background-color: #3B4455;\n",
              "      fill: #D2E3FC;\n",
              "    }\n",
              "\n",
              "    [theme=dark] .colab-df-convert:hover {\n",
              "      background-color: #434B5C;\n",
              "      box-shadow: 0px 1px 3px 1px rgba(0, 0, 0, 0.15);\n",
              "      filter: drop-shadow(0px 1px 2px rgba(0, 0, 0, 0.3));\n",
              "      fill: #FFFFFF;\n",
              "    }\n",
              "  </style>\n",
              "\n",
              "      <script>\n",
              "        const buttonEl =\n",
              "          document.querySelector('#df-162e97d0-ccf2-4b3c-b153-4dde9aaed2b0 button.colab-df-convert');\n",
              "        buttonEl.style.display =\n",
              "          google.colab.kernel.accessAllowed ? 'block' : 'none';\n",
              "\n",
              "        async function convertToInteractive(key) {\n",
              "          const element = document.querySelector('#df-162e97d0-ccf2-4b3c-b153-4dde9aaed2b0');\n",
              "          const dataTable =\n",
              "            await google.colab.kernel.invokeFunction('convertToInteractive',\n",
              "                                                     [key], {});\n",
              "          if (!dataTable) return;\n",
              "\n",
              "          const docLinkHtml = 'Like what you see? Visit the ' +\n",
              "            '<a target=\"_blank\" href=https://colab.research.google.com/notebooks/data_table.ipynb>data table notebook</a>'\n",
              "            + ' to learn more about interactive tables.';\n",
              "          element.innerHTML = '';\n",
              "          dataTable['output_type'] = 'display_data';\n",
              "          await google.colab.output.renderOutput(dataTable, element);\n",
              "          const docLink = document.createElement('div');\n",
              "          docLink.innerHTML = docLinkHtml;\n",
              "          element.appendChild(docLink);\n",
              "        }\n",
              "      </script>\n",
              "    </div>\n",
              "  </div>\n",
              "  "
            ],
            "application/vnd.google.colaboratory.module+javascript": "\n      import \"https://ssl.gstatic.com/colaboratory/data_table/f872b2c2305463fd/data_table.js\";\n\n      window.createDataTable({\n        data: [[{\n            'v': 99,\n            'f': \"99\",\n        },\n{\n            'v': 0,\n            'f': \"0\",\n        },\n\"b'give me a list of ingredients for making pasta'\"],\n [{\n            'v': 64,\n            'f': \"64\",\n        },\n{\n            'v': 0,\n            'f': \"0\",\n        },\n\"b'will peas work instead of carrots'\"],\n [{\n            'v': 5,\n            'f': \"5\",\n        },\n{\n            'v': 1,\n            'f': \"1\",\n        },\n\"b'whisper mode , stop'\"],\n [{\n            'v': 38,\n            'f': \"38\",\n        },\n{\n            'v': 1,\n            'f': \"1\",\n        },\n\"b'talk to you soon , bye !'\"],\n [{\n            'v': 16,\n            'f': \"16\",\n        },\n{\n            'v': 1,\n            'f': \"1\",\n        },\n\"b'please start whisper mode'\"],\n [{\n            'v': 93,\n            'f': \"93\",\n        },\n{\n            'v': 2,\n            'f': \"2\",\n        },\n\"b'before i embark on a trip to europe should i get more shots'\"],\n [{\n            'v': 86,\n            'f': \"86\",\n        },\n{\n            'v': 2,\n            'f': \"2\",\n        },\n\"b'do i need a visa to get to puerto rico'\"],\n [{\n            'v': 4,\n            'f': \"4\",\n        },\n{\n            'v': 2,\n            'f': \"2\",\n        },\n\"b'should i have my shots up to date before i travel to the virgin islands'\"],\n [{\n            'v': 85,\n            'f': \"85\",\n        },\n{\n            'v': 2,\n            'f': \"2\",\n        },\n\"b\\\"are there transaction fees using my discover if i'm in cuba\\\"\"],\n [{\n            'v': 78,\n            'f': \"78\",\n        },\n{\n            'v': 2,\n            'f': \"2\",\n        },\n\"b'i need a flight on delta from los angeles to seattle'\"],\n [{\n            'v': 15,\n            'f': \"15\",\n        },\n{\n            'v': 2,\n            'f': \"2\",\n        },\n\"b'vaccines for my trip to cuba'\"],\n [{\n            'v': 95,\n            'f': \"95\",\n        },\n{\n            'v': 3,\n            'f': \"3\",\n        },\n\"b'what transactions did i make on electronics this morning after 6am'\"],\n [{\n            'v': 58,\n            'f': \"58\",\n        },\n{\n            'v': 3,\n            'f': \"3\",\n        },\n\"b'what interest rate am i getting from sunflower bank'\"],\n [{\n            'v': 18,\n            'f': \"18\",\n        },\n{\n            'v': 3,\n            'f': \"3\",\n        },\n\"b\\\"what 's my savings account interest\\\"\"],\n [{\n            'v': 49,\n            'f': \"49\",\n        },\n{\n            'v': 3,\n            'f': \"3\",\n        },\n\"b'what interest rate am i getting from nfcu'\"],\n [{\n            'v': 13,\n            'f': \"13\",\n        },\n{\n            'v': 3,\n            'f': \"3\",\n        },\n\"b'how much have i spent on my bank card sine i last paid my bill'\"],\n [{\n            'v': 14,\n            'f': \"14\",\n        },\n{\n            'v': 3,\n            'f': \"3\",\n        },\n\"b\\\"what 's my checking look like\\\"\"],\n [{\n            'v': 9,\n            'f': \"9\",\n        },\n{\n            'v': 3,\n            'f': \"3\",\n        },\n\"b'how much money did i spend this weekend'\"],\n [{\n            'v': 94,\n            'f': \"94\",\n        },\n{\n            'v': 4,\n            'f': \"4\",\n        },\n\"b'how is traffic nearest the ben franklin bridge philadelphia heading to the new jersey turnpike'\"],\n [{\n            'v': 22,\n            'f': \"22\",\n        },\n{\n            'v': 4,\n            'f': \"4\",\n        },\n\"b'what does post rush hour traffic generally look like heading into the lincoln tunnel in manhattan from new jersey'\"],\n [{\n            'v': 71,\n            'f': \"71\",\n        },\n{\n            'v': 4,\n            'f': \"4\",\n        },\n\"b'is there traffic expected'\"],\n [{\n            'v': 59,\n            'f': \"59\",\n        },\n{\n            'v': 5,\n            'f': \"5\",\n        },\n\"b'how can i prevent my credit score from dropping'\"],\n [{\n            'v': 3,\n            'f': \"3\",\n        },\n{\n            'v': 5,\n            'f': \"5\",\n        },\n\"b'how come i got declined'\"],\n [{\n            'v': 6,\n            'f': \"6\",\n        },\n{\n            'v': 5,\n            'f': \"5\",\n        },\n\"b'what are the steps to get my rewards for my visa card'\"],\n [{\n            'v': 42,\n            'f': \"42\",\n        },\n{\n            'v': 5,\n            'f': \"5\",\n        },\n\"b'how can i get my credit limit to be increased to 1000'\"],\n [{\n            'v': 81,\n            'f': \"81\",\n        },\n{\n            'v': 5,\n            'f': \"5\",\n        },\n\"b'i would like to change the name on my first bankcard account'\"],\n [{\n            'v': 76,\n            'f': \"76\",\n        },\n{\n            'v': 5,\n            'f': \"5\",\n        },\n\"b'how do i order some more checks for my bank of the west account'\"],\n [{\n            'v': 30,\n            'f': \"30\",\n        },\n{\n            'v': 5,\n            'f': \"5\",\n        },\n\"b'i need my account frozen !'\"],\n [{\n            'v': 44,\n            'f': \"44\",\n        },\n{\n            'v': 6,\n            'f': \"6\",\n        },\n\"b'how healthy is blueberrys'\"],\n [{\n            'v': 73,\n            'f': \"73\",\n        },\n{\n            'v': 6,\n            'f': \"6\",\n        },\n\"b'what is the number of calories in a steak'\"],\n [{\n            'v': 56,\n            'f': \"56\",\n        },\n{\n            'v': 6,\n            'f': \"6\",\n        },\n\"b'calorie content of dr pepper'\"],\n [{\n            'v': 83,\n            'f': \"83\",\n        },\n{\n            'v': 7,\n            'f': \"7\",\n        },\n\"b'add what im listening to to my rock playlist'\"],\n [{\n            'v': 90,\n            'f': \"90\",\n        },\n{\n            'v': 7,\n            'f': \"7\",\n        },\n\"b'play ludacris hits'\"],\n [{\n            'v': 39,\n            'f': \"39\",\n        },\n{\n            'v': 8,\n            'f': \"8\",\n        },\n\"b'do i have any meetings between 1 and 8 pm'\"],\n [{\n            'v': 61,\n            'f': \"61\",\n        },\n{\n            'v': 8,\n            'f': \"8\",\n        },\n\"b\\\"is the friday 's full after 4\\\"\"],\n [{\n            'v': 24,\n            'f': \"24\",\n        },\n{\n            'v': 8,\n            'f': \"8\",\n        },\n\"b'i want to know how many vacation days i have used'\"],\n [{\n            'v': 46,\n            'f': \"46\",\n        },\n{\n            'v': 8,\n            'f': \"8\",\n        },\n\"b'how many vacation days i have used'\"],\n [{\n            'v': 54,\n            'f': \"54\",\n        },\n{\n            'v': 9,\n            'f': \"9\",\n        },\n\"b'can you find any good places in cleveland that serve clams'\"],\n [{\n            'v': 88,\n            'f': \"88\",\n        },\n{\n            'v': 9,\n            'f': \"9\",\n        },\n\"b'get me a hotel in phoenix near chase field from january 4th to the 8th'\"],\n [{\n            'v': 65,\n            'f': \"65\",\n        },\n{\n            'v': 9,\n            'f': \"9\",\n        },\n\"b\\\"rent a car for 3 1 through 3 3 in boston i 'd prefer an suv\\\"\"],\n [{\n            'v': 96,\n            'f': \"96\",\n        },\n{\n            'v': 10,\n            'f': \"10\",\n        },\n\"b'can you tell me when my item will get here'\"],\n [{\n            'v': 29,\n            'f': \"29\",\n        },\n{\n            'v': 10,\n            'f': \"10\",\n        },\n\"b'can you spell fragile for me'\"],\n [{\n            'v': 43,\n            'f': \"43\",\n        },\n{\n            'v': 11,\n            'f': \"11\",\n        },\n\"b'how is the weather looking in seattle'\"],\n [{\n            'v': 82,\n            'f': \"82\",\n        },\n{\n            'v': 11,\n            'f': \"11\",\n        },\n\"b'which timezone is denver located'\"],\n [{\n            'v': 70,\n            'f': \"70\",\n        },\n{\n            'v': 11,\n            'f': \"11\",\n        },\n\"b'what is the weather doing now'\"],\n [{\n            'v': 8,\n            'f': \"8\",\n        },\n{\n            'v': 11,\n            'f': \"11\",\n        },\n\"b'what is the weather doing in austin'\"],\n [{\n            'v': 91,\n            'f': \"91\",\n        },\n{\n            'v': 12,\n            'f': \"12\",\n        },\n\"b'when is the milk date before used'\"],\n [{\n            'v': 74,\n            'f': \"74\",\n        },\n{\n            'v': 12,\n            'f': \"12\",\n        },\n\"b'what is the expiration date for honey'\"],\n [{\n            'v': 41,\n            'f': \"41\",\n        },\n{\n            'v': 12,\n            'f': \"12\",\n        },\n\"b'when is the date of expiration for my first bank card'\"],\n [{\n            'v': 10,\n            'f': \"10\",\n        },\n{\n            'v': 12,\n            'f': \"12\",\n        },\n\"b'when did i last make a purchase'\"],\n [{\n            'v': 35,\n            'f': \"35\",\n        },\n{\n            'v': 12,\n            'f': \"12\",\n        },\n\"b'what was the date when i last go paid'\"],\n [{\n            'v': 53,\n            'f': \"53\",\n        },\n{\n            'v': 13,\n            'f': \"13\",\n        },\n\"b'where were you before'\"],\n [{\n            'v': 67,\n            'f': \"67\",\n        },\n{\n            'v': 13,\n            'f': \"13\",\n        },\n\"b'hey there'\"],\n [{\n            'v': 68,\n            'f': \"68\",\n        },\n{\n            'v': 14,\n            'f': \"14\",\n        },\n\"b'i want a new insurance plan'\"],\n [{\n            'v': 69,\n            'f': \"69\",\n        },\n{\n            'v': 14,\n            'f': \"14\",\n        },\n\"b'phone number to state farm to change insurance'\"],\n [{\n            'v': 72,\n            'f': \"72\",\n        },\n{\n            'v': 14,\n            'f': \"14\",\n        },\n\"b'tell me the full name of my health plan'\"],\n [{\n            'v': 0,\n            'f': \"0\",\n        },\n{\n            'v': 14,\n            'f': \"14\",\n        },\n\"b'do you know how i can change my insurance policy'\"],\n [{\n            'v': 11,\n            'f': \"11\",\n        },\n{\n            'v': 14,\n            'f': \"14\",\n        },\n\"b'do you know how i get new insurance'\"],\n [{\n            'v': 28,\n            'f': \"28\",\n        },\n{\n            'v': 14,\n            'f': \"14\",\n        },\n\"b'can you tell me what health plan i am on'\"],\n [{\n            'v': 60,\n            'f': \"60\",\n        },\n{\n            'v': 15,\n            'f': \"15\",\n        },\n\"b'use martins name to reserve a table at tropicana for 5 people at 8pm'\"],\n [{\n            'v': 45,\n            'f': \"45\",\n        },\n{\n            'v': 16,\n            'f': \"16\",\n        },\n\"b'is my luggage lost'\"],\n [{\n            'v': 75,\n            'f': \"75\",\n        },\n{\n            'v': 16,\n            'f': \"16\",\n        },\n\"b\\\"i ca n't find my luggage\\\"\"],\n [{\n            'v': 97,\n            'f': \"97\",\n        },\n{\n            'v': 16,\n            'f': \"16\",\n        },\n\"b'is my flight , dl123 on time'\"],\n [{\n            'v': 63,\n            'f': \"63\",\n        },\n{\n            'v': 17,\n            'f': \"17\",\n        },\n\"b'how often should i get my tires changed'\"],\n [{\n            'v': 2,\n            'f': \"2\",\n        },\n{\n            'v': 17,\n            'f': \"17\",\n        },\n\"b'my tires are filled enough or no'\"],\n [{\n            'v': 37,\n            'f': \"37\",\n        },\n{\n            'v': 17,\n            'f': \"17\",\n        },\n\"b'i want to change the oil in my car but i do not know how to do it can you help'\"],\n [{\n            'v': 79,\n            'f': \"79\",\n        },\n{\n            'v': 17,\n            'f': \"17\",\n        },\n\"b\\\"could someone look at my check engine light that 's on\\\"\"],\n [{\n            'v': 98,\n            'f': \"98\",\n        },\n{\n            'v': 17,\n            'f': \"17\",\n        },\n\"b'i need gas what type do i need for this car'\"],\n [{\n            'v': 50,\n            'f': \"50\",\n        },\n{\n            'v': 18,\n            'f': \"18\",\n        },\n\"b'can you tell me what hobbies the ai has'\"],\n [{\n            'v': 20,\n            'f': \"20\",\n        },\n{\n            'v': 18,\n            'f': \"18\",\n        },\n\"b'tell me fun facts of today'\"],\n [{\n            'v': 27,\n            'f': \"27\",\n        },\n{\n            'v': 19,\n            'f': \"19\",\n        },\n\"b\\\"i ca n't say for certain either way\\\"\"],\n [{\n            'v': 48,\n            'f': \"48\",\n        },\n{\n            'v': 20,\n            'f': \"20\",\n        },\n\"b'please buy me something'\"],\n [{\n            'v': 77,\n            'f': \"77\",\n        },\n{\n            'v': 20,\n            'f': \"20\",\n        },\n\"b'i need to buy something , please'\"],\n [{\n            'v': 7,\n            'f': \"7\",\n        },\n{\n            'v': 20,\n            'f': \"20\",\n        },\n\"b'order me some doritos , please'\"],\n [{\n            'v': 62,\n            'f': \"62\",\n        },\n{\n            'v': 21,\n            'f': \"21\",\n        },\n\"b'text courtney and inform her about the detour'\"],\n [{\n            'v': 80,\n            'f': \"80\",\n        },\n{\n            'v': 22,\n            'f': \"22\",\n        },\n\"b'put in a request for cashing in credit points'\"],\n [{\n            'v': 52,\n            'f': \"52\",\n        },\n{\n            'v': 22,\n            'f': \"22\",\n        },\n\"b'can i get more credit'\"],\n [{\n            'v': 17,\n            'f': \"17\",\n        },\n{\n            'v': 23,\n            'f': \"23\",\n        },\n\"b'any clue as to if taco bell takes reservations'\"],\n [{\n            'v': 92,\n            'f': \"92\",\n        },\n{\n            'v': 23,\n            'f': \"23\",\n        },\n\"b'do they take reservations at applebeesi'\"],\n [{\n            'v': 66,\n            'f': \"66\",\n        },\n{\n            'v': 23,\n            'f': \"23\",\n        },\n\"b\\\"confirm the john reservation at applebee 's\\\"\"],\n [{\n            'v': 19,\n            'f': \"19\",\n        },\n{\n            'v': 23,\n            'f': \"23\",\n        },\n\"b'do you have any idea if central needs reservations'\"],\n [{\n            'v': 89,\n            'f': \"89\",\n        },\n{\n            'v': 23,\n            'f': \"23\",\n        },\n\"b'cancel my reservation for dinner tonight'\"],\n [{\n            'v': 84,\n            'f': \"84\",\n        },\n{\n            'v': 23,\n            'f': \"23\",\n        },\n\"b\\\"i do n't need the reservation anymore\\\"\"],\n [{\n            'v': 32,\n            'f': \"32\",\n        },\n{\n            'v': 24,\n            'f': \"24\",\n        },\n\"b\\\"alert my bank i'm checking out seattle for the next month\\\"\"],\n [{\n            'v': 21,\n            'f': \"21\",\n        },\n{\n            'v': 24,\n            'f': \"24\",\n        },\n\"b'contact bank and let them know about my travel plans'\"],\n [{\n            'v': 40,\n            'f': \"40\",\n        },\n{\n            'v': 24,\n            'f': \"24\",\n        },\n\"b\\\"i'm going to brazil soon and want to let my bank now\\\"\"],\n [{\n            'v': 87,\n            'f': \"87\",\n        },\n{\n            'v': 25,\n            'f': \"25\",\n        },\n\"b'20 yen is how many dollars'\"],\n [{\n            'v': 57,\n            'f': \"57\",\n        },\n{\n            'v': 25,\n            'f': \"25\",\n        },\n\"b'how many japanese yen are in a us dollar'\"],\n [{\n            'v': 47,\n            'f': \"47\",\n        },\n{\n            'v': 26,\n            'f': \"26\",\n        },\n\"b'can you tell me something funny about science'\"],\n [{\n            'v': 55,\n            'f': \"55\",\n        },\n{\n            'v': 26,\n            'f': \"26\",\n        },\n\"b'do you have any monkey jokes'\"],\n [{\n            'v': 12,\n            'f': \"12\",\n        },\n{\n            'v': 26,\n            'f': \"26\",\n        },\n\"b'tell me something funny about horses'\"],\n [{\n            'v': 1,\n            'f': \"1\",\n        },\n{\n            'v': 27,\n            'f': \"27\",\n        },\n\"b'would you provide me with what the point of life is'\"],\n [{\n            'v': 33,\n            'f': \"33\",\n        },\n{\n            'v': 28,\n            'f': \"28\",\n        },\n\"b'flip a coin for me and i call heads'\"],\n [{\n            'v': 31,\n            'f': \"31\",\n        },\n{\n            'v': 29,\n            'f': \"29\",\n        },\n\"b\\\"what 's the latest i can pay my cellular bill\\\"\"],\n [{\n            'v': 34,\n            'f': \"34\",\n        },\n{\n            'v': 29,\n            'f': \"29\",\n        },\n\"b'what do i do now that my battery is dead'\"],\n [{\n            'v': 23,\n            'f': \"23\",\n        },\n{\n            'v': 30,\n            'f': \"30\",\n        },\n\"b'yes , that is factual'\"],\n [{\n            'v': 51,\n            'f': \"51\",\n        },\n{\n            'v': 31,\n            'f': \"31\",\n        },\n\"b'set an alarm for 6 am tomorrow'\"],\n [{\n            'v': 26,\n            'f': \"26\",\n        },\n{\n            'v': 32,\n            'f': \"32\",\n        },\n\"b'go back to the default settings please'\"],\n [{\n            'v': 25,\n            'f': \"25\",\n        },\n{\n            'v': 33,\n            'f': \"33\",\n        },\n\"b'can i start calling you fred'\"],\n [{\n            'v': 36,\n            'f': \"36\",\n        },\n{\n            'v': 33,\n            'f': \"33\",\n        },\n\"b'can you call me a different name , please'\"]],\n        columns: [[\"number\", \"index\"], [\"number\", \"cluster\"], [\"string\", \"text\"]],\n        columnOptions: [{\"width\": \"1px\", \"className\": \"index_column\"}],\n        rowsPerPage: 25,\n        helpUrl: \"https://colab.research.google.com/notebooks/data_table.ipynb\",\n        suppressOutputScrolling: true,\n        minimumWidth: undefined,\n      });\n    "
          },
          "metadata": {},
          "execution_count": 123
        }
      ]
    },
    {
      "cell_type": "code",
      "source": [
        "#@title Get cluster centers (averages)\n",
        "cluster_label_list = output_df.cluster.unique()\n",
        "cluster_idx = output_df.reset_index().groupby(\"cluster\")[\"index\"].unique()\n",
        "\n",
        "cluster_centers = {}\n",
        "cluster_grouped = {}\n",
        "for c in cluster_label_list:\n",
        "  total_embeddings = [embeddings[i,:] for i in cluster_idx[c]]\n",
        "  cluster_ctr = np.mean(total_embeddings, 0)\n",
        "  cluster_centers[c] = cluster_ctr\n",
        "  cluster_grouped[c] = total_embeddings"
      ],
      "metadata": {
        "id": "nD4dtqNWfzoP"
      },
      "execution_count": null,
      "outputs": []
    },
    {
      "cell_type": "code",
      "source": [
        "#@title plot cluster correlations\n",
        "plot_similarity(\n",
        "    list(cluster_centers.keys()), list(cluster_centers.values()), 90, 0)"
      ],
      "metadata": {
        "colab": {
          "base_uri": "https://localhost:8080/",
          "height": 292
        },
        "id": "BqNRx5R4gOSS",
        "outputId": "72341874-6af4-4568-9b41-a630b5a2f514"
      },
      "execution_count": null,
      "outputs": [
        {
          "output_type": "display_data",
          "data": {
            "text/plain": [
              "<Figure size 432x288 with 2 Axes>"
            ],
            "image/png": "[encoded data removed]"
          },
          "metadata": {}
        }
      ]
    },
    {
      "cell_type": "code",
      "source": [
        "sns.displot(\n",
        "  upper_tri_indexing(\n",
        "    np.inner(list(cluster_centers.values()), list(cluster_centers.values()))\n",
        "  )\n",
        ")"
      ],
      "metadata": {
        "id": "-ZYcN3xunW2R",
        "outputId": "e86ff60d-e28f-47be-9a34-d8f051941290",
        "colab": {
          "base_uri": "https://localhost:8080/",
          "height": 377
        }
      },
      "execution_count": null,
      "outputs": [
        {
          "output_type": "execute_result",
          "data": {
            "text/plain": [
              "<seaborn.axisgrid.FacetGrid at 0x7fc984bb74d0>"
            ]
          },
          "metadata": {},
          "execution_count": 103
        },
        {
          "output_type": "display_data",
          "data": {
            "text/plain": [
              "<Figure size 360x360 with 1 Axes>"
            ],
            "image/png": "[encoded data removed]"
          },
          "metadata": {}
        }
      ]
    },
    {
      "cell_type": "markdown",
      "source": [
        "## 1.4 Summarize output"
      ],
      "metadata": {
        "id": "KC86r21Roq9H"
      }
    },
    {
      "cell_type": "code",
      "source": [
        "import re\n",
        "import string\n",
        "import spacy\n",
        "from collections import Counter\n",
        "#loading the english language small model of spacy\n",
        "en = spacy.load('en_core_web_sm')\n",
        "sw_spacy = en.Defaults.stop_words"
      ],
      "metadata": {
        "id": "a1h7RIgTox5P"
      },
      "execution_count": null,
      "outputs": []
    },
    {
      "cell_type": "code",
      "source": [
        "# Create a custom standardization function to strip HTML break tags '<br />'.\n",
        "def custom_standardization(input_data):\n",
        "  lowercase = tf.strings.lower(input_data)\n",
        "  stripped_html = tf.strings.regex_replace(lowercase, \"<br />\", \"\")\n",
        "  more_stripping =  tf.strings.regex_replace(stripped_html,\n",
        "                                  '[%s]' % re.escape(string.punctuation), '')\n",
        "  # source: https://stackoverflow.com/questions/66044999/remove-stopwords-in-tensorflow-extended\n",
        "  return tf.strings.regex_replace(more_stripping, r'\\b(' + r'|'.join(sw_spacy) + r')\\b\\s*',\"\")"
      ],
      "metadata": {
        "id": "Lm4tOnxHotdQ"
      },
      "execution_count": null,
      "outputs": []
    },
    {
      "cell_type": "code",
      "source": [
        "def top_words(word_lst, n=2):\n",
        "  try:\n",
        "    return \" * \".join([x[0] for x in Counter([w for g in word_lst for w in g]).most_common(n)])\n",
        "  except:\n",
        "    print(\"something wong\")\n",
        "    return \"\""
      ],
      "metadata": {
        "id": "bEhJgsGFp1jk"
      },
      "execution_count": null,
      "outputs": []
    },
    {
      "cell_type": "code",
      "source": [
        "output_df[\"norm_text\"] = custom_standardization(text)\n",
        "output_df[\"norm_word_lst\"] = output_df[\"norm_text\"].apply(lambda x: x.decode(\"utf-8\").split(\" \"))"
      ],
      "metadata": {
        "id": "21rB9w9rouLK"
      },
      "execution_count": null,
      "outputs": []
    },
    {
      "cell_type": "code",
      "source": [
        "#@title invetigate how well clusters aligned with intents\n",
        "data_table.DataTable(\n",
        "  output_df.groupby(\"cluster\").agg({\n",
        "      \"norm_text\":lambda x: \"\".join(str(x)),\n",
        "      \"intent\":lambda x: \"\".join(str(x)),\n",
        "      \"text\":np.size,\n",
        "      \"norm_word_lst\":top_words}\n",
        "    ).sort_values(\"text\", ascending = False), \n",
        "  num_rows_per_page=10)"
      ],
      "metadata": {
        "id": "Ae-X3BXPqpWu",
        "outputId": "073313ee-1daf-4172-a4b2-1bebd2373f37",
        "colab": {
          "base_uri": "https://localhost:8080/",
          "height": 661
        }
      },
      "execution_count": null,
      "outputs": [
        {
          "output_type": "execute_result",
          "data": {
            "text/html": [
              "<div>\n",
              "<style scoped>\n",
              "    .dataframe tbody tr th:only-of-type {\n",
              "        vertical-align: middle;\n",
              "    }\n",
              "\n",
              "    .dataframe tbody tr th {\n",
              "        vertical-align: top;\n",
              "    }\n",
              "\n",
              "    .dataframe thead th {\n",
              "        text-align: right;\n",
              "    }\n",
              "</style>\n",
              "<table border=\"1\" class=\"dataframe\">\n",
              "  <thead>\n",
              "    <tr style=\"text-align: right;\">\n",
              "      <th></th>\n",
              "      <th>norm_text</th>\n",
              "      <th>intent</th>\n",
              "      <th>text</th>\n",
              "      <th>norm_word_lst</th>\n",
              "    </tr>\n",
              "    <tr>\n",
              "      <th>cluster</th>\n",
              "      <th></th>\n",
              "      <th></th>\n",
              "      <th></th>\n",
              "      <th></th>\n",
              "    </tr>\n",
              "  </thead>\n",
              "  <tbody>\n",
              "    <tr>\n",
              "      <th>3</th>\n",
              "      <td>9                      b'money spend weekend'\\...</td>\n",
              "      <td>9     b'spending_history'\\n13        b'transac...</td>\n",
              "      <td>7</td>\n",
              "      <td>interest * bank</td>\n",
              "    </tr>\n",
              "    <tr>\n",
              "      <th>5</th>\n",
              "      <td>3                  b'come got declined'\\n6    ...</td>\n",
              "      <td>3            b'card_declined'\\n6           b'r...</td>\n",
              "      <td>7</td>\n",
              "      <td>account * credit</td>\n",
              "    </tr>\n",
              "    <tr>\n",
              "      <th>2</th>\n",
              "      <td>4          b'shots date travel virgin islands'...</td>\n",
              "      <td>4               b'vaccines'\\n15              b...</td>\n",
              "      <td>6</td>\n",
              "      <td>shots * trip</td>\n",
              "    </tr>\n",
              "    <tr>\n",
              "      <th>23</th>\n",
              "      <td>17      b'clue taco bell takes reservations'\\n...</td>\n",
              "      <td>17    b'accept_reservations'\\n19    b'accept_r...</td>\n",
              "      <td>6</td>\n",
              "      <td>reservations * reservation</td>\n",
              "    </tr>\n",
              "    <tr>\n",
              "      <th>14</th>\n",
              "      <td>0                 b'know change insurance poli...</td>\n",
              "      <td>0     b'insurance_change'\\n11    b'insurance_c...</td>\n",
              "      <td>6</td>\n",
              "      <td>insurance * plan</td>\n",
              "    </tr>\n",
              "    <tr>\n",
              "      <th>17</th>\n",
              "      <td>2                     b'tires filled '\\n37    ...</td>\n",
              "      <td>2            b'tire_pressure'\\n37          b'o...</td>\n",
              "      <td>5</td>\n",
              "      <td>tires *</td>\n",
              "    </tr>\n",
              "    <tr>\n",
              "      <th>12</th>\n",
              "      <td>10                     b'purchase'\\n35        ...</td>\n",
              "      <td>10       b'transactions'\\n35             b'pay...</td>\n",
              "      <td>5</td>\n",
              "      <td>date * expiration</td>\n",
              "    </tr>\n",
              "    <tr>\n",
              "      <th>8</th>\n",
              "      <td>24    b'want know vacation days '\\n39         ...</td>\n",
              "      <td>24            b'pto_used'\\n39    b'meeting_sch...</td>\n",
              "      <td>4</td>\n",
              "      <td>vacation * days</td>\n",
              "    </tr>\n",
              "    <tr>\n",
              "      <th>11</th>\n",
              "      <td>8              b'weather austin'\\n43    b'weat...</td>\n",
              "      <td>8      b'weather'\\n43     b'weather'\\n70     b...</td>\n",
              "      <td>4</td>\n",
              "      <td>weather * austin</td>\n",
              "    </tr>\n",
              "    <tr>\n",
              "      <th>1</th>\n",
              "      <td>5     b'whisper mode  stop'\\n16    b'start whi...</td>\n",
              "      <td>5     b'whisper_mode'\\n16    b'whisper_mode'\\n...</td>\n",
              "      <td>3</td>\n",
              "      <td>* whisper</td>\n",
              "    </tr>\n",
              "    <tr>\n",
              "      <th>16</th>\n",
              "      <td>45          b'luggage lost'\\n75       b'nt fin...</td>\n",
              "      <td>45     b'lost_luggage'\\n75     b'lost_luggage'...</td>\n",
              "      <td>3</td>\n",
              "      <td>luggage * lost</td>\n",
              "    </tr>\n",
              "    <tr>\n",
              "      <th>24</th>\n",
              "      <td>21      b'contact bank let know travel plans'\\...</td>\n",
              "      <td>21    b'travel_notification'\\n32    b'travel_n...</td>\n",
              "      <td>3</td>\n",
              "      <td>bank * let</td>\n",
              "    </tr>\n",
              "    <tr>\n",
              "      <th>26</th>\n",
              "      <td>12     b'tell funny horses'\\n47    b'tell funn...</td>\n",
              "      <td>12    b'tell_joke'\\n47    b'tell_joke'\\n55    ...</td>\n",
              "      <td>3</td>\n",
              "      <td>tell * funny</td>\n",
              "    </tr>\n",
              "    <tr>\n",
              "      <th>20</th>\n",
              "      <td>7     b'order doritos  '\\n48               b'b...</td>\n",
              "      <td>7     b'order'\\n48    b'order'\\n77    b'order'...</td>\n",
              "      <td>3</td>\n",
              "      <td>* buy</td>\n",
              "    </tr>\n",
              "    <tr>\n",
              "      <th>9</th>\n",
              "      <td>54            b'find good places cleveland ser...</td>\n",
              "      <td>54    b'restaurant_suggestion'\\n65            ...</td>\n",
              "      <td>3</td>\n",
              "      <td>3 * find</td>\n",
              "    </tr>\n",
              "    <tr>\n",
              "      <th>6</th>\n",
              "      <td>44           b'healthy blueberrys'\\n56    b'ca...</td>\n",
              "      <td>44    b'nutrition_info'\\n56          b'calorie...</td>\n",
              "      <td>3</td>\n",
              "      <td>healthy * blueberrys</td>\n",
              "    </tr>\n",
              "    <tr>\n",
              "      <th>4</th>\n",
              "      <td>22    b'post rush hour traffic generally look ...</td>\n",
              "      <td>22    b'traffic'\\n71    b'traffic'\\n94    b'tr...</td>\n",
              "      <td>3</td>\n",
              "      <td>traffic * heading</td>\n",
              "    </tr>\n",
              "    <tr>\n",
              "      <th>25</th>\n",
              "      <td>57    b'japanese yen dollar'\\n87         b'20 ...</td>\n",
              "      <td>57    b'exchange_rate'\\n87    b'exchange_rate'...</td>\n",
              "      <td>2</td>\n",
              "      <td>yen * japanese</td>\n",
              "    </tr>\n",
              "    <tr>\n",
              "      <th>29</th>\n",
              "      <td>31    b's latest pay cellular bill'\\n34       ...</td>\n",
              "      <td>31      b'bill_due'\\n34    b'jump_start'\\nName...</td>\n",
              "      <td>2</td>\n",
              "      <td>s * latest</td>\n",
              "    </tr>\n",
              "    <tr>\n",
              "      <th>22</th>\n",
              "      <td>52                           b'credit'\\n80    ...</td>\n",
              "      <td>52    b'credit_limit_change'\\n80         b'red...</td>\n",
              "      <td>2</td>\n",
              "      <td>credit * request</td>\n",
              "    </tr>\n",
              "    <tr>\n",
              "      <th>0</th>\n",
              "      <td>64        b'peas work instead carrots'\\n99    ...</td>\n",
              "      <td>64    b'ingredient_substitution'\\n99          ...</td>\n",
              "      <td>2</td>\n",
              "      <td>peas * work</td>\n",
              "    </tr>\n",
              "    <tr>\n",
              "      <th>18</th>\n",
              "      <td>20    b'tell fun facts today'\\n50        b'tel...</td>\n",
              "      <td>20                 b'fun_fact'\\n50    b'what_a...</td>\n",
              "      <td>2</td>\n",
              "      <td>tell * fun</td>\n",
              "    </tr>\n",
              "    <tr>\n",
              "      <th>13</th>\n",
              "      <td>53        b''\\n67    b'hey '\\nName: norm_text,...</td>\n",
              "      <td>53    b'where_are_you_from'\\n67              b...</td>\n",
              "      <td>2</td>\n",
              "      <td>* hey</td>\n",
              "    </tr>\n",
              "    <tr>\n",
              "      <th>10</th>\n",
              "      <td>29    b'spell fragile '\\n96        b'tell item...</td>\n",
              "      <td>29        b'spelling'\\n96    b'order_status'\\n...</td>\n",
              "      <td>2</td>\n",
              "      <td>* spell</td>\n",
              "    </tr>\n",
              "    <tr>\n",
              "      <th>7</th>\n",
              "      <td>83    b'add im listening rock playlist'\\n90   ...</td>\n",
              "      <td>83    b'update_playlist'\\n90         b'play_mu...</td>\n",
              "      <td>2</td>\n",
              "      <td>add * im</td>\n",
              "    </tr>\n",
              "    <tr>\n",
              "      <th>33</th>\n",
              "      <td>25    b'start calling fred'\\n36            b'd...</td>\n",
              "      <td>25      b'change_ai_name'\\n36    b'change_user...</td>\n",
              "      <td>2</td>\n",
              "      <td>start * calling</td>\n",
              "    </tr>\n",
              "    <tr>\n",
              "      <th>21</th>\n",
              "      <td>62    b'text courtney inform detour'\\nName: no...</td>\n",
              "      <td>62    b'text'\\nName: intent, dtype: object</td>\n",
              "      <td>1</td>\n",
              "      <td>text * courtney</td>\n",
              "    </tr>\n",
              "    <tr>\n",
              "      <th>19</th>\n",
              "      <td>27    b'nt certain way'\\nName: norm_text, dtyp...</td>\n",
              "      <td>27    b'maybe'\\nName: intent, dtype: object</td>\n",
              "      <td>1</td>\n",
              "      <td>nt * certain</td>\n",
              "    </tr>\n",
              "    <tr>\n",
              "      <th>15</th>\n",
              "      <td>60    b'use martins reserve table tropicana 5 ...</td>\n",
              "      <td>60    b'restaurant_reservation'\\nName: intent,...</td>\n",
              "      <td>1</td>\n",
              "      <td>use * martins</td>\n",
              "    </tr>\n",
              "    <tr>\n",
              "      <th>27</th>\n",
              "      <td>1    b'provide point life '\\nName: norm_text, ...</td>\n",
              "      <td>1    b'meaning_of_life'\\nName: intent, dtype: ...</td>\n",
              "      <td>1</td>\n",
              "      <td>provide * point</td>\n",
              "    </tr>\n",
              "    <tr>\n",
              "      <th>28</th>\n",
              "      <td>33    b'flip coin heads'\\nName: norm_text, dty...</td>\n",
              "      <td>33    b'flip_coin'\\nName: intent, dtype: object</td>\n",
              "      <td>1</td>\n",
              "      <td>flip * coin</td>\n",
              "    </tr>\n",
              "    <tr>\n",
              "      <th>30</th>\n",
              "      <td>23    b'yes  factual'\\nName: norm_text, dtype:...</td>\n",
              "      <td>23    b'yes'\\nName: intent, dtype: object</td>\n",
              "      <td>1</td>\n",
              "      <td>yes *</td>\n",
              "    </tr>\n",
              "    <tr>\n",
              "      <th>31</th>\n",
              "      <td>51    b'set alarm 6 tomorrow'\\nName: norm_text...</td>\n",
              "      <td>51    b'alarm'\\nName: intent, dtype: object</td>\n",
              "      <td>1</td>\n",
              "      <td>set * alarm</td>\n",
              "    </tr>\n",
              "    <tr>\n",
              "      <th>32</th>\n",
              "      <td>26    b'default settings '\\nName: norm_text, d...</td>\n",
              "      <td>26    b'reset_settings'\\nName: intent, dtype: ...</td>\n",
              "      <td>1</td>\n",
              "      <td>default * settings</td>\n",
              "    </tr>\n",
              "  </tbody>\n",
              "</table>\n",
              "</div>"
            ],
            "application/vnd.google.colaboratory.module+javascript": "\n      import \"https://ssl.gstatic.com/colaboratory/data_table/f872b2c2305463fd/data_table.js\";\n\n      window.createDataTable({\n        data: [[{\n            'v': 3,\n            'f': \"3\",\n        },\n\"9                      b'money spend weekend'\\n13          b'spent bank card sine paid bill'\\n14                    b's checking look like'\\n18              b's savings account interest'\\n49              b'interest rate getting nfcu'\\n58    b'interest rate getting sunflower bank'\\n95    b'transactions electronics morning 6am'\\nName: norm_text, dtype: object\",\n\"9     b'spending_history'\\n13        b'transactions'\\n14             b'balance'\\n18       b'interest_rate'\\n49       b'interest_rate'\\n58       b'interest_rate'\\n95        b'transactions'\\nName: intent, dtype: object\",\n{\n            'v': 7,\n            'f': \"7\",\n        },\n\"interest * bank\"],\n [{\n            'v': 5,\n            'f': \"5\",\n        },\n\"3                  b'come got declined'\\n6            b'steps rewards visa card'\\n30              b'need account frozen '\\n42       b'credit limit increased 1000'\\n59     b'prevent credit score dropping'\\n76    b'order checks bank west account'\\n81      b'like change bankcard account'\\nName: norm_text, dtype: object\",\n\"3            b'card_declined'\\n6           b'redeem_rewards'\\n30          b'freeze_account'\\n42     b'credit_limit_change'\\n59    b'improve_credit_score'\\n76            b'order_checks'\\n81              b'pin_change'\\nName: intent, dtype: object\",\n{\n            'v': 7,\n            'f': \"7\",\n        },\n\"account * credit\"],\n [{\n            'v': 2,\n            'f': \"2\",\n        },\n\"4          b'shots date travel virgin islands'\\n15                       b'vaccines trip cuba'\\n78    b'need flight delta los angeles seattle'\\n85        b'transaction fees discover im cuba'\\n86                    b'need visa puerto rico'\\n93                 b'embark trip europe shots'\\nName: norm_text, dtype: object\",\n\"4               b'vaccines'\\n15              b'vaccines'\\n78           b'book_flight'\\n85    b'international_fees'\\n86    b'international_visa'\\n93              b'vaccines'\\nName: intent, dtype: object\",\n{\n            'v': 6,\n            'f': \"6\",\n        },\n\"shots * trip\"],\n [{\n            'v': 23,\n            'f': \"23\",\n        },\n\"17      b'clue taco bell takes reservations'\\n19        b'idea central needs reservations'\\n66    b'confirm john reservation applebee s'\\n84            b'nt need reservation anymore'\\n89      b'cancel reservation dinner tonight'\\n92                b'reservations applebeesi'\\nName: norm_text, dtype: object\",\n\"17    b'accept_reservations'\\n19    b'accept_reservations'\\n66    b'confirm_reservation'\\n84     b'cancel_reservation'\\n89     b'cancel_reservation'\\n92    b'accept_reservations'\\nName: intent, dtype: object\",\n{\n            'v': 6,\n            'f': \"6\",\n        },\n\"reservations * reservation\"],\n [{\n            'v': 14,\n            'f': \"14\",\n        },\n\"0                 b'know change insurance policy'\\n11                          b'know new insurance'\\n28                           b'tell health plan '\\n68                     b'want new insurance plan'\\n69    b'phone number state farm change insurance'\\n72                            b'tell health plan'\\nName: norm_text, dtype: object\",\n\"0     b'insurance_change'\\n11    b'insurance_change'\\n28           b'insurance'\\n68    b'insurance_change'\\n69    b'insurance_change'\\n72           b'insurance'\\nName: intent, dtype: object\",\n{\n            'v': 6,\n            'f': \"6\",\n        },\n\"insurance * plan\"],\n [{\n            'v': 17,\n            'f': \"17\",\n        },\n\"2                     b'tires filled '\\n37    b'want change oil car know help'\\n63                    b'tires changed'\\n79       b'look check engine light s '\\n98           b'need gas type need car'\\nName: norm_text, dtype: object\",\n\"2            b'tire_pressure'\\n37          b'oil_change_how'\\n63             b'tire_change'\\n79    b'schedule_maintenance'\\n98                b'gas_type'\\nName: intent, dtype: object\",\n{\n            'v': 5,\n            'f': \"5\",\n        },\n\"tires * \"],\n [{\n            'v': 12,\n            'f': \"12\",\n        },\n\"10                     b'purchase'\\n35                    b'date paid'\\n41    b'date expiration bank card'\\n74        b'expiration date honey'\\n91                   b'milk date '\\nName: norm_text, dtype: object\",\n\"10       b'transactions'\\n35             b'payday'\\n41    b'expiration_date'\\n74          b'food_last'\\n91          b'food_last'\\nName: intent, dtype: object\",\n{\n            'v': 5,\n            'f': \"5\",\n        },\n\"date * expiration\"],\n [{\n            'v': 8,\n            'f': \"8\",\n        },\n\"24    b'want know vacation days '\\n39             b'meetings 1 8 pm'\\n46              b'vacation days '\\n61                  b'friday s 4'\\nName: norm_text, dtype: object\",\n\"24            b'pto_used'\\n39    b'meeting_schedule'\\n46            b'pto_used'\\n61            b'how_busy'\\nName: intent, dtype: object\",\n{\n            'v': 4,\n            'f': \"4\",\n        },\n\"vacation * days\"],\n [{\n            'v': 11,\n            'f': \"11\",\n        },\n\"8              b'weather austin'\\n43    b'weather looking seattle'\\n70                   b'weather '\\n82    b'timezone denver located'\\nName: norm_text, dtype: object\",\n\"8      b'weather'\\n43     b'weather'\\n70     b'weather'\\n82    b'timezone'\\nName: intent, dtype: object\",\n{\n            'v': 4,\n            'f': \"4\",\n        },\n\"weather * austin\"],\n [{\n            'v': 1,\n            'f': \"1\",\n        },\n\"5     b'whisper mode  stop'\\n16    b'start whisper mode'\\n38       b'talk soon  bye '\\nName: norm_text, dtype: object\",\n\"5     b'whisper_mode'\\n16    b'whisper_mode'\\n38         b'goodbye'\\nName: intent, dtype: object\",\n{\n            'v': 3,\n            'f': \"3\",\n        },\n\" * whisper\"],\n [{\n            'v': 16,\n            'f': \"16\",\n        },\n\"45          b'luggage lost'\\n75       b'nt find luggage'\\n97    b'flight  dl123 time'\\nName: norm_text, dtype: object\",\n\"45     b'lost_luggage'\\n75     b'lost_luggage'\\n97    b'flight_status'\\nName: intent, dtype: object\",\n{\n            'v': 3,\n            'f': \"3\",\n        },\n\"luggage * lost\"],\n [{\n            'v': 24,\n            'f': \"24\",\n        },\n\"21      b'contact bank let know travel plans'\\n32    b'alert bank im checking seattle month'\\n40     b'im going brazil soon want let bank '\\nName: norm_text, dtype: object\",\n\"21    b'travel_notification'\\n32    b'travel_notification'\\n40    b'travel_notification'\\nName: intent, dtype: object\",\n{\n            'v': 3,\n            'f': \"3\",\n        },\n\"bank * let\"],\n [{\n            'v': 26,\n            'f': \"26\",\n        },\n\"12     b'tell funny horses'\\n47    b'tell funny science'\\n55          b'monkey jokes'\\nName: norm_text, dtype: object\",\n\"12    b'tell_joke'\\n47    b'tell_joke'\\n55    b'tell_joke'\\nName: intent, dtype: object\",\n{\n            'v': 3,\n            'f': \"3\",\n        },\n\"tell * funny\"],\n [{\n            'v': 20,\n            'f': \"20\",\n        },\n\"7     b'order doritos  '\\n48               b'buy '\\n77          b'need buy '\\nName: norm_text, dtype: object\",\n\"7     b'order'\\n48    b'order'\\n77    b'order'\\nName: intent, dtype: object\",\n{\n            'v': 3,\n            'f': \"3\",\n        },\n\" * buy\"],\n [{\n            'v': 9,\n            'f': \"9\",\n        },\n\"54            b'find good places cleveland serve clams'\\n65              b'rent car 3 1 3 3 boston d prefer suv'\\n88    b'hotel phoenix near chase field january 4th 8th'\\nName: norm_text, dtype: object\",\n\"54    b'restaurant_suggestion'\\n65               b'car_rental'\\n88               b'book_hotel'\\nName: intent, dtype: object\",\n{\n            'v': 3,\n            'f': \"3\",\n        },\n\"3 * find\"],\n [{\n            'v': 6,\n            'f': \"6\",\n        },\n\"44           b'healthy blueberrys'\\n56    b'calorie content dr pepper'\\n73        b'number calories steak'\\nName: norm_text, dtype: object\",\n\"44    b'nutrition_info'\\n56          b'calories'\\n73          b'calories'\\nName: intent, dtype: object\",\n{\n            'v': 3,\n            'f': \"3\",\n        },\n\"healthy * blueberrys\"],\n [{\n            'v': 4,\n            'f': \"4\",\n        },\n\"22    b'post rush hour traffic generally look like h...\\n71                                  b'traffic expected'\\n94    b'traffic nearest ben franklin bridge philadel...\\nName: norm_text, dtype: object\",\n\"22    b'traffic'\\n71    b'traffic'\\n94    b'traffic'\\nName: intent, dtype: object\",\n{\n            'v': 3,\n            'f': \"3\",\n        },\n\"traffic * heading\"],\n [{\n            'v': 25,\n            'f': \"25\",\n        },\n\"57    b'japanese yen dollar'\\n87         b'20 yen dollars'\\nName: norm_text, dtype: object\",\n\"57    b'exchange_rate'\\n87    b'exchange_rate'\\nName: intent, dtype: object\",\n{\n            'v': 2,\n            'f': \"2\",\n        },\n\"yen * japanese\"],\n [{\n            'v': 29,\n            'f': \"29\",\n        },\n\"31    b's latest pay cellular bill'\\n34                  b'battery dead'\\nName: norm_text, dtype: object\",\n\"31      b'bill_due'\\n34    b'jump_start'\\nName: intent, dtype: object\",\n{\n            'v': 2,\n            'f': \"2\",\n        },\n\"s * latest\"],\n [{\n            'v': 22,\n            'f': \"22\",\n        },\n\"52                           b'credit'\\n80    b'request cashing credit points'\\nName: norm_text, dtype: object\",\n\"52    b'credit_limit_change'\\n80         b'redeem_rewards'\\nName: intent, dtype: object\",\n{\n            'v': 2,\n            'f': \"2\",\n        },\n\"credit * request\"],\n [{\n            'v': 0,\n            'f': \"0\",\n        },\n\"64        b'peas work instead carrots'\\n99    b'list ingredients making pasta'\\nName: norm_text, dtype: object\",\n\"64    b'ingredient_substitution'\\n99           b'ingredients_list'\\nName: intent, dtype: object\",\n{\n            'v': 2,\n            'f': \"2\",\n        },\n\"peas * work\"],\n [{\n            'v': 18,\n            'f': \"18\",\n        },\n\"20    b'tell fun facts today'\\n50        b'tell hobbies ai '\\nName: norm_text, dtype: object\",\n\"20                 b'fun_fact'\\n50    b'what_are_your_hobbies'\\nName: intent, dtype: object\",\n{\n            'v': 2,\n            'f': \"2\",\n        },\n\"tell * fun\"],\n [{\n            'v': 13,\n            'f': \"13\",\n        },\n\"53        b''\\n67    b'hey '\\nName: norm_text, dtype: object\",\n\"53    b'where_are_you_from'\\n67              b'greeting'\\nName: intent, dtype: object\",\n{\n            'v': 2,\n            'f': \"2\",\n        },\n\" * hey\"],\n [{\n            'v': 10,\n            'f': \"10\",\n        },\n\"29    b'spell fragile '\\n96        b'tell item '\\nName: norm_text, dtype: object\",\n\"29        b'spelling'\\n96    b'order_status'\\nName: intent, dtype: object\",\n{\n            'v': 2,\n            'f': \"2\",\n        },\n\" * spell\"],\n [{\n            'v': 7,\n            'f': \"7\",\n        },\n\"83    b'add im listening rock playlist'\\n90                b'play ludacris hits'\\nName: norm_text, dtype: object\",\n\"83    b'update_playlist'\\n90         b'play_music'\\nName: intent, dtype: object\",\n{\n            'v': 2,\n            'f': \"2\",\n        },\n\"add * im\"],\n [{\n            'v': 33,\n            'f': \"33\",\n        },\n\"25    b'start calling fred'\\n36            b'different '\\nName: norm_text, dtype: object\",\n\"25      b'change_ai_name'\\n36    b'change_user_name'\\nName: intent, dtype: object\",\n{\n            'v': 2,\n            'f': \"2\",\n        },\n\"start * calling\"],\n [{\n            'v': 21,\n            'f': \"21\",\n        },\n\"62    b'text courtney inform detour'\\nName: norm_text, dtype: object\",\n\"62    b'text'\\nName: intent, dtype: object\",\n{\n            'v': 1,\n            'f': \"1\",\n        },\n\"text * courtney\"],\n [{\n            'v': 19,\n            'f': \"19\",\n        },\n\"27    b'nt certain way'\\nName: norm_text, dtype: object\",\n\"27    b'maybe'\\nName: intent, dtype: object\",\n{\n            'v': 1,\n            'f': \"1\",\n        },\n\"nt * certain\"],\n [{\n            'v': 15,\n            'f': \"15\",\n        },\n\"60    b'use martins reserve table tropicana 5 people...\\nName: norm_text, dtype: object\",\n\"60    b'restaurant_reservation'\\nName: intent, dtype: object\",\n{\n            'v': 1,\n            'f': \"1\",\n        },\n\"use * martins\"],\n [{\n            'v': 27,\n            'f': \"27\",\n        },\n\"1    b'provide point life '\\nName: norm_text, dtype: object\",\n\"1    b'meaning_of_life'\\nName: intent, dtype: object\",\n{\n            'v': 1,\n            'f': \"1\",\n        },\n\"provide * point\"],\n [{\n            'v': 28,\n            'f': \"28\",\n        },\n\"33    b'flip coin heads'\\nName: norm_text, dtype: object\",\n\"33    b'flip_coin'\\nName: intent, dtype: object\",\n{\n            'v': 1,\n            'f': \"1\",\n        },\n\"flip * coin\"],\n [{\n            'v': 30,\n            'f': \"30\",\n        },\n\"23    b'yes  factual'\\nName: norm_text, dtype: object\",\n\"23    b'yes'\\nName: intent, dtype: object\",\n{\n            'v': 1,\n            'f': \"1\",\n        },\n\"yes * \"],\n [{\n            'v': 31,\n            'f': \"31\",\n        },\n\"51    b'set alarm 6 tomorrow'\\nName: norm_text, dtype: object\",\n\"51    b'alarm'\\nName: intent, dtype: object\",\n{\n            'v': 1,\n            'f': \"1\",\n        },\n\"set * alarm\"],\n [{\n            'v': 32,\n            'f': \"32\",\n        },\n\"26    b'default settings '\\nName: norm_text, dtype: object\",\n\"26    b'reset_settings'\\nName: intent, dtype: object\",\n{\n            'v': 1,\n            'f': \"1\",\n        },\n\"default * settings\"]],\n        columns: [[\"number\", \"cluster\"], [\"string\", \"norm_text\"], [\"string\", \"intent\"], [\"number\", \"text\"], [\"string\", \"norm_word_lst\"]],\n        columnOptions: [{\"width\": \"1px\", \"className\": \"index_column\"}],\n        rowsPerPage: 10,\n        helpUrl: \"https://colab.research.google.com/notebooks/data_table.ipynb\",\n        suppressOutputScrolling: true,\n        minimumWidth: undefined,\n      });\n    ",
            "text/plain": [
              "<google.colab.data_table.DataTable object>"
            ]
          },
          "metadata": {},
          "execution_count": 136
        }
      ]
    }
  ]
}